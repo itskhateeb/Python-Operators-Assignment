{
 "cells": [
  {
   "cell_type": "code",
   "execution_count": 1,
   "id": "75e865b9-e20b-451f-9708-102c446bf7aa",
   "metadata": {},
   "outputs": [],
   "source": [
    "# 1. Calculate the sum, difference, product, and quotient of two numbers."
   ]
  },
  {
   "cell_type": "code",
   "execution_count": 4,
   "id": "ca23ca04-a293-4f0a-8c13-7f5c27712026",
   "metadata": {},
   "outputs": [
    {
     "name": "stdout",
     "output_type": "stream",
     "text": [
      "Sum is 15\n",
      "Difference is 5\n",
      "Product is 50\n",
      "Quotient is 2.0\n"
     ]
    }
   ],
   "source": [
    "num1 = 10\n",
    "num2 = 5\n",
    "s = num1 + num2\n",
    "d = num1 - num2\n",
    "p = num1 * num2\n",
    "q = num1 / num2\n",
    "print(\"Sum is\", s)\n",
    "print(\"Difference is\", d)\n",
    "print(\"Product is\", p)\n",
    "print(\"Quotient is\", q)"
   ]
  },
  {
   "cell_type": "code",
   "execution_count": 5,
   "id": "b3553b6f-e2b5-425d-9132-86b43cc48630",
   "metadata": {},
   "outputs": [],
   "source": [
    "# 2. Perform various assignment operations on a variable."
   ]
  },
  {
   "cell_type": "code",
   "execution_count": 6,
   "id": "1f2f6ca2-abf2-4b66-948b-5ca1da0d6860",
   "metadata": {},
   "outputs": [
    {
     "name": "stdout",
     "output_type": "stream",
     "text": [
      "12\n"
     ]
    }
   ],
   "source": [
    "x = 10\n",
    "x += 2\n",
    "print (x)"
   ]
  },
  {
   "cell_type": "code",
   "execution_count": 7,
   "id": "f58f5333-b53c-48be-8a2e-9c2ea5db9ce9",
   "metadata": {},
   "outputs": [
    {
     "name": "stdout",
     "output_type": "stream",
     "text": [
      "8\n"
     ]
    }
   ],
   "source": [
    "x = 10\n",
    "x -= 2\n",
    "print (x)"
   ]
  },
  {
   "cell_type": "code",
   "execution_count": 8,
   "id": "5fe34ecd-c403-4784-832e-412e12c713f2",
   "metadata": {},
   "outputs": [
    {
     "name": "stdout",
     "output_type": "stream",
     "text": [
      "20\n"
     ]
    }
   ],
   "source": [
    "x = 10\n",
    "x *= 2\n",
    "print (x)"
   ]
  },
  {
   "cell_type": "code",
   "execution_count": 10,
   "id": "ccd050a2-561c-4e01-8783-c4c4ece40932",
   "metadata": {},
   "outputs": [
    {
     "name": "stdout",
     "output_type": "stream",
     "text": [
      "5.0\n"
     ]
    }
   ],
   "source": [
    "x = 10\n",
    "x /= 2\n",
    "print (x)"
   ]
  },
  {
   "cell_type": "code",
   "execution_count": 11,
   "id": "a0ad78d2-cecb-430e-a3da-80ebaed217f5",
   "metadata": {},
   "outputs": [],
   "source": [
    "# 3. Compare two numbers and print the results."
   ]
  },
  {
   "cell_type": "code",
   "execution_count": 12,
   "id": "6752e825-b64e-4c2b-b759-891fb60deb18",
   "metadata": {},
   "outputs": [
    {
     "name": "stdout",
     "output_type": "stream",
     "text": [
      "False\n"
     ]
    }
   ],
   "source": [
    "x = 12\n",
    "y = 6\n",
    "print (x == y)\n"
   ]
  },
  {
   "cell_type": "code",
   "execution_count": 13,
   "id": "3e19bc71-4009-4075-ae4e-4a9a83a6aa16",
   "metadata": {},
   "outputs": [
    {
     "name": "stdout",
     "output_type": "stream",
     "text": [
      "True\n"
     ]
    }
   ],
   "source": [
    "x = 12\n",
    "y = 6\n",
    "print (x != y)"
   ]
  },
  {
   "cell_type": "code",
   "execution_count": 14,
   "id": "2c68f3bb-c047-4675-a144-d10fe6b52cc1",
   "metadata": {},
   "outputs": [
    {
     "name": "stdout",
     "output_type": "stream",
     "text": [
      "True\n"
     ]
    }
   ],
   "source": [
    "x = 12\n",
    "y = 6\n",
    "print (x > y)"
   ]
  },
  {
   "cell_type": "code",
   "execution_count": 15,
   "id": "64f960d4-a01a-4141-ba9d-21df581b9dd7",
   "metadata": {},
   "outputs": [
    {
     "name": "stdout",
     "output_type": "stream",
     "text": [
      "False\n"
     ]
    }
   ],
   "source": [
    "x = 12\n",
    "y = 6\n",
    "print (x < y)"
   ]
  },
  {
   "cell_type": "code",
   "execution_count": 16,
   "id": "8f130922-1e53-4daa-8771-4d3b325e4cd3",
   "metadata": {},
   "outputs": [],
   "source": [
    "# 4. Check conditions using logical operators."
   ]
  },
  {
   "cell_type": "code",
   "execution_count": 17,
   "id": "b096100d-921e-48a8-b125-5f0886c3adae",
   "metadata": {},
   "outputs": [
    {
     "name": "stdout",
     "output_type": "stream",
     "text": [
      "True\n"
     ]
    }
   ],
   "source": [
    "x = 5\n",
    "print(x > 3 and x < 10)"
   ]
  },
  {
   "cell_type": "code",
   "execution_count": 18,
   "id": "5a08b350-35a9-4f8c-96a3-7448c3122ad4",
   "metadata": {},
   "outputs": [
    {
     "name": "stdout",
     "output_type": "stream",
     "text": [
      "True\n"
     ]
    }
   ],
   "source": [
    "x = 5\n",
    "print(x > 3 or x < 4)"
   ]
  },
  {
   "cell_type": "code",
   "execution_count": 19,
   "id": "d1587949-50bc-49ac-b87e-fbb1164ade29",
   "metadata": {},
   "outputs": [
    {
     "name": "stdout",
     "output_type": "stream",
     "text": [
      "False\n"
     ]
    }
   ],
   "source": [
    "x = 5\n",
    "print(not(x > 3 and x < 10))"
   ]
  },
  {
   "cell_type": "code",
   "execution_count": 20,
   "id": "ed89af53-c641-4555-8ca7-e4ef6c0a1b63",
   "metadata": {},
   "outputs": [],
   "source": [
    "# 5. Check the identity of variables."
   ]
  },
  {
   "cell_type": "code",
   "execution_count": 21,
   "id": "58c2f48b-ba9a-4673-8ab0-177c1568f4ce",
   "metadata": {},
   "outputs": [
    {
     "name": "stdout",
     "output_type": "stream",
     "text": [
      "True\n"
     ]
    }
   ],
   "source": [
    "x = 10\n",
    "y = 10\n",
    "print (x is y)"
   ]
  },
  {
   "cell_type": "code",
   "execution_count": 23,
   "id": "3311f9bd-fa8c-4af1-9d92-8a9a2fd201e0",
   "metadata": {},
   "outputs": [
    {
     "name": "stdout",
     "output_type": "stream",
     "text": [
      "False\n"
     ]
    }
   ],
   "source": [
    "x = 100\n",
    "y = 100\n",
    "print (x is not y)"
   ]
  },
  {
   "cell_type": "code",
   "execution_count": 24,
   "id": "afba620d-8c17-4fe8-be6e-7ac53b793e3f",
   "metadata": {},
   "outputs": [],
   "source": [
    "# 6. Perform bitwise operations on any two integers."
   ]
  },
  {
   "cell_type": "code",
   "execution_count": 27,
   "id": "10be63f1-869d-40c7-8784-6474bcb02e1d",
   "metadata": {},
   "outputs": [
    {
     "name": "stdout",
     "output_type": "stream",
     "text": [
      "2\n"
     ]
    }
   ],
   "source": [
    "a = 6\n",
    "b = 3 \n",
    "print (a & b) #AND"
   ]
  },
  {
   "cell_type": "code",
   "execution_count": 28,
   "id": "8a45e8c4-5876-406b-a12c-4f61cdb2ca31",
   "metadata": {},
   "outputs": [
    {
     "name": "stdout",
     "output_type": "stream",
     "text": [
      "7\n"
     ]
    }
   ],
   "source": [
    "print (a | b) # OR"
   ]
  },
  {
   "cell_type": "code",
   "execution_count": 30,
   "id": "79b911e0-17eb-42bb-8499-e34fc6e5b736",
   "metadata": {},
   "outputs": [
    {
     "name": "stdout",
     "output_type": "stream",
     "text": [
      "5\n"
     ]
    }
   ],
   "source": [
    "print (a ^ b) # XOR"
   ]
  },
  {
   "cell_type": "code",
   "execution_count": 32,
   "id": "d19795a9-4daa-4237-8fac-c68bea715cf2",
   "metadata": {},
   "outputs": [
    {
     "name": "stdout",
     "output_type": "stream",
     "text": [
      "-4\n"
     ]
    }
   ],
   "source": [
    "print (~3) # NOT"
   ]
  },
  {
   "cell_type": "code",
   "execution_count": 33,
   "id": "50ff223d-0219-4f35-8759-a91fe200fc1b",
   "metadata": {},
   "outputs": [],
   "source": [
    "# 7. Use unary operators to change the sign of a number."
   ]
  },
  {
   "cell_type": "code",
   "execution_count": 34,
   "id": "f338b04c-bf15-48da-843f-50545d929264",
   "metadata": {},
   "outputs": [
    {
     "name": "stdout",
     "output_type": "stream",
     "text": [
      "10\n"
     ]
    }
   ],
   "source": [
    "a = -10\n",
    "b = -a\n",
    "print (b)"
   ]
  },
  {
   "cell_type": "code",
   "execution_count": 35,
   "id": "f1aca385-52bb-48ea-8ecb-501308d26f60",
   "metadata": {},
   "outputs": [],
   "source": [
    "# 8. Use the ternary operator to assign values based on conditions."
   ]
  },
  {
   "cell_type": "code",
   "execution_count": null,
   "id": "aeda5a84-8edb-4174-9604-02cb954ca17e",
   "metadata": {},
   "outputs": [],
   "source": [
    "n = 10\n",
    "sign = [1, -1][number < 0] * number\n",
    "\n",
    "print(f\"Original number: {number}, Signed number: {sign}\")"
   ]
  }
 ],
 "metadata": {
  "kernelspec": {
   "display_name": "Python 3 (ipykernel)",
   "language": "python",
   "name": "python3"
  },
  "language_info": {
   "codemirror_mode": {
    "name": "ipython",
    "version": 3
   },
   "file_extension": ".py",
   "mimetype": "text/x-python",
   "name": "python",
   "nbconvert_exporter": "python",
   "pygments_lexer": "ipython3",
   "version": "3.10.8"
  }
 },
 "nbformat": 4,
 "nbformat_minor": 5
}
